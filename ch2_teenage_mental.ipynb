{
 "cells": [
  {
   "cell_type": "code",
   "execution_count": 1,
   "metadata": {},
   "outputs": [],
   "source": [
    "import pandas as pd"
   ]
  },
  {
   "cell_type": "code",
   "execution_count": 2,
   "metadata": {},
   "outputs": [
    {
     "data": {
      "text/plain": [
       "DatetimeIndex(['2020-11-13', '2020-11-14', '2020-11-15', '2020-11-16',\n",
       "               '2020-11-17', '2020-11-18'],\n",
       "              dtype='datetime64[ns]', freq='D')"
      ]
     },
     "execution_count": 2,
     "metadata": {},
     "output_type": "execute_result"
    }
   ],
   "source": [
    "dates = pd.date_range('20201113', periods=6)\n",
    "dates"
   ]
  },
  {
   "cell_type": "code",
   "execution_count": 3,
   "metadata": {},
   "outputs": [],
   "source": [
    "import numpy as np"
   ]
  },
  {
   "cell_type": "code",
   "execution_count": 4,
   "metadata": {},
   "outputs": [
    {
     "data": {
      "text/html": [
       "<div>\n",
       "<style scoped>\n",
       "    .dataframe tbody tr th:only-of-type {\n",
       "        vertical-align: middle;\n",
       "    }\n",
       "\n",
       "    .dataframe tbody tr th {\n",
       "        vertical-align: top;\n",
       "    }\n",
       "\n",
       "    .dataframe thead th {\n",
       "        text-align: right;\n",
       "    }\n",
       "</style>\n",
       "<table border=\"1\" class=\"dataframe\">\n",
       "  <thead>\n",
       "    <tr style=\"text-align: right;\">\n",
       "      <th></th>\n",
       "      <th>A</th>\n",
       "      <th>B</th>\n",
       "      <th>C</th>\n",
       "      <th>D</th>\n",
       "    </tr>\n",
       "  </thead>\n",
       "  <tbody>\n",
       "    <tr>\n",
       "      <th>2020-11-13</th>\n",
       "      <td>-0.578288</td>\n",
       "      <td>-0.202190</td>\n",
       "      <td>-0.948373</td>\n",
       "      <td>-0.303444</td>\n",
       "    </tr>\n",
       "    <tr>\n",
       "      <th>2020-11-14</th>\n",
       "      <td>-0.767506</td>\n",
       "      <td>-0.713810</td>\n",
       "      <td>-1.466597</td>\n",
       "      <td>-0.525656</td>\n",
       "    </tr>\n",
       "    <tr>\n",
       "      <th>2020-11-15</th>\n",
       "      <td>-2.120860</td>\n",
       "      <td>-1.342784</td>\n",
       "      <td>0.185338</td>\n",
       "      <td>-0.350059</td>\n",
       "    </tr>\n",
       "    <tr>\n",
       "      <th>2020-11-16</th>\n",
       "      <td>-1.052932</td>\n",
       "      <td>1.216394</td>\n",
       "      <td>-1.405198</td>\n",
       "      <td>-0.594812</td>\n",
       "    </tr>\n",
       "    <tr>\n",
       "      <th>2020-11-17</th>\n",
       "      <td>-0.671928</td>\n",
       "      <td>-1.459705</td>\n",
       "      <td>0.736743</td>\n",
       "      <td>0.698470</td>\n",
       "    </tr>\n",
       "    <tr>\n",
       "      <th>2020-11-18</th>\n",
       "      <td>-1.321047</td>\n",
       "      <td>0.948187</td>\n",
       "      <td>-1.670727</td>\n",
       "      <td>-1.190644</td>\n",
       "    </tr>\n",
       "  </tbody>\n",
       "</table>\n",
       "</div>"
      ],
      "text/plain": [
       "                   A         B         C         D\n",
       "2020-11-13 -0.578288 -0.202190 -0.948373 -0.303444\n",
       "2020-11-14 -0.767506 -0.713810 -1.466597 -0.525656\n",
       "2020-11-15 -2.120860 -1.342784  0.185338 -0.350059\n",
       "2020-11-16 -1.052932  1.216394 -1.405198 -0.594812\n",
       "2020-11-17 -0.671928 -1.459705  0.736743  0.698470\n",
       "2020-11-18 -1.321047  0.948187 -1.670727 -1.190644"
      ]
     },
     "execution_count": 4,
     "metadata": {},
     "output_type": "execute_result"
    }
   ],
   "source": [
    "df = pd.DataFrame(np.random.randn(6,4), index=dates, columns=['A','B','C','D'])\n",
    "df"
   ]
  },
  {
   "cell_type": "code",
   "execution_count": 5,
   "metadata": {},
   "outputs": [
    {
     "data": {
      "text/plain": [
       "pandas.core.frame.DataFrame"
      ]
     },
     "execution_count": 5,
     "metadata": {},
     "output_type": "execute_result"
    }
   ],
   "source": [
    "type(df)"
   ]
  },
  {
   "cell_type": "code",
   "execution_count": 6,
   "metadata": {},
   "outputs": [
    {
     "data": {
      "text/plain": [
       "Index(['A', 'B', 'C', 'D'], dtype='object')"
      ]
     },
     "execution_count": 6,
     "metadata": {},
     "output_type": "execute_result"
    }
   ],
   "source": [
    "df.columns"
   ]
  },
  {
   "cell_type": "code",
   "execution_count": 7,
   "metadata": {},
   "outputs": [
    {
     "data": {
      "text/plain": [
       "DatetimeIndex(['2020-11-13', '2020-11-14', '2020-11-15', '2020-11-16',\n",
       "               '2020-11-17', '2020-11-18'],\n",
       "              dtype='datetime64[ns]', freq='D')"
      ]
     },
     "execution_count": 7,
     "metadata": {},
     "output_type": "execute_result"
    }
   ],
   "source": [
    "df.index"
   ]
  },
  {
   "cell_type": "code",
   "execution_count": 8,
   "metadata": {},
   "outputs": [
    {
     "data": {
      "text/plain": [
       "array([[-0.57828842, -0.20218992, -0.94837307, -0.30344367],\n",
       "       [-0.76750592, -0.71380988, -1.4665966 , -0.5256558 ],\n",
       "       [-2.12086005, -1.34278392,  0.18533753, -0.35005942],\n",
       "       [-1.05293206,  1.21639373, -1.40519802, -0.59481245],\n",
       "       [-0.67192784, -1.45970527,  0.73674282,  0.6984701 ],\n",
       "       [-1.32104742,  0.94818711, -1.67072744, -1.19064449]])"
      ]
     },
     "execution_count": 8,
     "metadata": {},
     "output_type": "execute_result"
    }
   ],
   "source": [
    "df.values"
   ]
  },
  {
   "cell_type": "code",
   "execution_count": 9,
   "metadata": {},
   "outputs": [
    {
     "data": {
      "text/html": [
       "<div>\n",
       "<style scoped>\n",
       "    .dataframe tbody tr th:only-of-type {\n",
       "        vertical-align: middle;\n",
       "    }\n",
       "\n",
       "    .dataframe tbody tr th {\n",
       "        vertical-align: top;\n",
       "    }\n",
       "\n",
       "    .dataframe thead th {\n",
       "        text-align: right;\n",
       "    }\n",
       "</style>\n",
       "<table border=\"1\" class=\"dataframe\">\n",
       "  <thead>\n",
       "    <tr style=\"text-align: right;\">\n",
       "      <th></th>\n",
       "      <th>A</th>\n",
       "      <th>B</th>\n",
       "      <th>C</th>\n",
       "      <th>D</th>\n",
       "    </tr>\n",
       "  </thead>\n",
       "  <tbody>\n",
       "    <tr>\n",
       "      <th>count</th>\n",
       "      <td>6.000000</td>\n",
       "      <td>6.000000</td>\n",
       "      <td>6.000000</td>\n",
       "      <td>6.000000</td>\n",
       "    </tr>\n",
       "    <tr>\n",
       "      <th>mean</th>\n",
       "      <td>-1.085427</td>\n",
       "      <td>-0.258985</td>\n",
       "      <td>-0.761469</td>\n",
       "      <td>-0.377691</td>\n",
       "    </tr>\n",
       "    <tr>\n",
       "      <th>std</th>\n",
       "      <td>0.575837</td>\n",
       "      <td>1.136701</td>\n",
       "      <td>0.991399</td>\n",
       "      <td>0.615521</td>\n",
       "    </tr>\n",
       "    <tr>\n",
       "      <th>min</th>\n",
       "      <td>-2.120860</td>\n",
       "      <td>-1.459705</td>\n",
       "      <td>-1.670727</td>\n",
       "      <td>-1.190644</td>\n",
       "    </tr>\n",
       "    <tr>\n",
       "      <th>25%</th>\n",
       "      <td>-1.254019</td>\n",
       "      <td>-1.185540</td>\n",
       "      <td>-1.451247</td>\n",
       "      <td>-0.577523</td>\n",
       "    </tr>\n",
       "    <tr>\n",
       "      <th>50%</th>\n",
       "      <td>-0.910219</td>\n",
       "      <td>-0.458000</td>\n",
       "      <td>-1.176786</td>\n",
       "      <td>-0.437858</td>\n",
       "    </tr>\n",
       "    <tr>\n",
       "      <th>75%</th>\n",
       "      <td>-0.695822</td>\n",
       "      <td>0.660593</td>\n",
       "      <td>-0.098090</td>\n",
       "      <td>-0.315098</td>\n",
       "    </tr>\n",
       "    <tr>\n",
       "      <th>max</th>\n",
       "      <td>-0.578288</td>\n",
       "      <td>1.216394</td>\n",
       "      <td>0.736743</td>\n",
       "      <td>0.698470</td>\n",
       "    </tr>\n",
       "  </tbody>\n",
       "</table>\n",
       "</div>"
      ],
      "text/plain": [
       "              A         B         C         D\n",
       "count  6.000000  6.000000  6.000000  6.000000\n",
       "mean  -1.085427 -0.258985 -0.761469 -0.377691\n",
       "std    0.575837  1.136701  0.991399  0.615521\n",
       "min   -2.120860 -1.459705 -1.670727 -1.190644\n",
       "25%   -1.254019 -1.185540 -1.451247 -0.577523\n",
       "50%   -0.910219 -0.458000 -1.176786 -0.437858\n",
       "75%   -0.695822  0.660593 -0.098090 -0.315098\n",
       "max   -0.578288  1.216394  0.736743  0.698470"
      ]
     },
     "execution_count": 9,
     "metadata": {},
     "output_type": "execute_result"
    }
   ],
   "source": [
    "df.describe()"
   ]
  },
  {
   "cell_type": "code",
   "execution_count": 10,
   "metadata": {},
   "outputs": [
    {
     "data": {
      "text/html": [
       "<div>\n",
       "<style scoped>\n",
       "    .dataframe tbody tr th:only-of-type {\n",
       "        vertical-align: middle;\n",
       "    }\n",
       "\n",
       "    .dataframe tbody tr th {\n",
       "        vertical-align: top;\n",
       "    }\n",
       "\n",
       "    .dataframe thead th {\n",
       "        text-align: right;\n",
       "    }\n",
       "</style>\n",
       "<table border=\"1\" class=\"dataframe\">\n",
       "  <thead>\n",
       "    <tr style=\"text-align: right;\">\n",
       "      <th></th>\n",
       "      <th>A</th>\n",
       "      <th>B</th>\n",
       "      <th>C</th>\n",
       "      <th>D</th>\n",
       "    </tr>\n",
       "  </thead>\n",
       "  <tbody>\n",
       "    <tr>\n",
       "      <th>2020-11-15</th>\n",
       "      <td>-2.120860</td>\n",
       "      <td>-1.342784</td>\n",
       "      <td>0.185338</td>\n",
       "      <td>-0.350059</td>\n",
       "    </tr>\n",
       "    <tr>\n",
       "      <th>2020-11-18</th>\n",
       "      <td>-1.321047</td>\n",
       "      <td>0.948187</td>\n",
       "      <td>-1.670727</td>\n",
       "      <td>-1.190644</td>\n",
       "    </tr>\n",
       "    <tr>\n",
       "      <th>2020-11-16</th>\n",
       "      <td>-1.052932</td>\n",
       "      <td>1.216394</td>\n",
       "      <td>-1.405198</td>\n",
       "      <td>-0.594812</td>\n",
       "    </tr>\n",
       "    <tr>\n",
       "      <th>2020-11-14</th>\n",
       "      <td>-0.767506</td>\n",
       "      <td>-0.713810</td>\n",
       "      <td>-1.466597</td>\n",
       "      <td>-0.525656</td>\n",
       "    </tr>\n",
       "    <tr>\n",
       "      <th>2020-11-17</th>\n",
       "      <td>-0.671928</td>\n",
       "      <td>-1.459705</td>\n",
       "      <td>0.736743</td>\n",
       "      <td>0.698470</td>\n",
       "    </tr>\n",
       "    <tr>\n",
       "      <th>2020-11-13</th>\n",
       "      <td>-0.578288</td>\n",
       "      <td>-0.202190</td>\n",
       "      <td>-0.948373</td>\n",
       "      <td>-0.303444</td>\n",
       "    </tr>\n",
       "  </tbody>\n",
       "</table>\n",
       "</div>"
      ],
      "text/plain": [
       "                   A         B         C         D\n",
       "2020-11-15 -2.120860 -1.342784  0.185338 -0.350059\n",
       "2020-11-18 -1.321047  0.948187 -1.670727 -1.190644\n",
       "2020-11-16 -1.052932  1.216394 -1.405198 -0.594812\n",
       "2020-11-14 -0.767506 -0.713810 -1.466597 -0.525656\n",
       "2020-11-17 -0.671928 -1.459705  0.736743  0.698470\n",
       "2020-11-13 -0.578288 -0.202190 -0.948373 -0.303444"
      ]
     },
     "execution_count": 10,
     "metadata": {},
     "output_type": "execute_result"
    }
   ],
   "source": [
    "df.sort_values(by='A')"
   ]
  },
  {
   "cell_type": "code",
   "execution_count": 11,
   "metadata": {},
   "outputs": [
    {
     "data": {
      "text/html": [
       "<div>\n",
       "<style scoped>\n",
       "    .dataframe tbody tr th:only-of-type {\n",
       "        vertical-align: middle;\n",
       "    }\n",
       "\n",
       "    .dataframe tbody tr th {\n",
       "        vertical-align: top;\n",
       "    }\n",
       "\n",
       "    .dataframe thead th {\n",
       "        text-align: right;\n",
       "    }\n",
       "</style>\n",
       "<table border=\"1\" class=\"dataframe\">\n",
       "  <thead>\n",
       "    <tr style=\"text-align: right;\">\n",
       "      <th></th>\n",
       "      <th>A</th>\n",
       "      <th>B</th>\n",
       "      <th>C</th>\n",
       "      <th>D</th>\n",
       "    </tr>\n",
       "  </thead>\n",
       "  <tbody>\n",
       "    <tr>\n",
       "      <th>2020-11-13</th>\n",
       "      <td>-0.578288</td>\n",
       "      <td>-0.202190</td>\n",
       "      <td>-0.948373</td>\n",
       "      <td>-0.303444</td>\n",
       "    </tr>\n",
       "    <tr>\n",
       "      <th>2020-11-17</th>\n",
       "      <td>-0.671928</td>\n",
       "      <td>-1.459705</td>\n",
       "      <td>0.736743</td>\n",
       "      <td>0.698470</td>\n",
       "    </tr>\n",
       "    <tr>\n",
       "      <th>2020-11-14</th>\n",
       "      <td>-0.767506</td>\n",
       "      <td>-0.713810</td>\n",
       "      <td>-1.466597</td>\n",
       "      <td>-0.525656</td>\n",
       "    </tr>\n",
       "    <tr>\n",
       "      <th>2020-11-16</th>\n",
       "      <td>-1.052932</td>\n",
       "      <td>1.216394</td>\n",
       "      <td>-1.405198</td>\n",
       "      <td>-0.594812</td>\n",
       "    </tr>\n",
       "    <tr>\n",
       "      <th>2020-11-18</th>\n",
       "      <td>-1.321047</td>\n",
       "      <td>0.948187</td>\n",
       "      <td>-1.670727</td>\n",
       "      <td>-1.190644</td>\n",
       "    </tr>\n",
       "    <tr>\n",
       "      <th>2020-11-15</th>\n",
       "      <td>-2.120860</td>\n",
       "      <td>-1.342784</td>\n",
       "      <td>0.185338</td>\n",
       "      <td>-0.350059</td>\n",
       "    </tr>\n",
       "  </tbody>\n",
       "</table>\n",
       "</div>"
      ],
      "text/plain": [
       "                   A         B         C         D\n",
       "2020-11-13 -0.578288 -0.202190 -0.948373 -0.303444\n",
       "2020-11-17 -0.671928 -1.459705  0.736743  0.698470\n",
       "2020-11-14 -0.767506 -0.713810 -1.466597 -0.525656\n",
       "2020-11-16 -1.052932  1.216394 -1.405198 -0.594812\n",
       "2020-11-18 -1.321047  0.948187 -1.670727 -1.190644\n",
       "2020-11-15 -2.120860 -1.342784  0.185338 -0.350059"
      ]
     },
     "execution_count": 11,
     "metadata": {},
     "output_type": "execute_result"
    }
   ],
   "source": [
    "df.sort_values(by='A', ascending=False)"
   ]
  },
  {
   "cell_type": "code",
   "execution_count": 12,
   "metadata": {},
   "outputs": [
    {
     "data": {
      "text/plain": [
       "2020-11-13   -0.578288\n",
       "2020-11-14   -0.767506\n",
       "2020-11-15   -2.120860\n",
       "2020-11-16   -1.052932\n",
       "2020-11-17   -0.671928\n",
       "2020-11-18   -1.321047\n",
       "Freq: D, Name: A, dtype: float64"
      ]
     },
     "execution_count": 12,
     "metadata": {},
     "output_type": "execute_result"
    }
   ],
   "source": [
    "df['A']"
   ]
  },
  {
   "cell_type": "code",
   "execution_count": 13,
   "metadata": {},
   "outputs": [
    {
     "data": {
      "text/plain": [
       "pandas.core.series.Series"
      ]
     },
     "execution_count": 13,
     "metadata": {},
     "output_type": "execute_result"
    }
   ],
   "source": [
    "type(df['A'])"
   ]
  },
  {
   "cell_type": "code",
   "execution_count": 14,
   "metadata": {},
   "outputs": [
    {
     "data": {
      "text/html": [
       "<div>\n",
       "<style scoped>\n",
       "    .dataframe tbody tr th:only-of-type {\n",
       "        vertical-align: middle;\n",
       "    }\n",
       "\n",
       "    .dataframe tbody tr th {\n",
       "        vertical-align: top;\n",
       "    }\n",
       "\n",
       "    .dataframe thead th {\n",
       "        text-align: right;\n",
       "    }\n",
       "</style>\n",
       "<table border=\"1\" class=\"dataframe\">\n",
       "  <thead>\n",
       "    <tr style=\"text-align: right;\">\n",
       "      <th></th>\n",
       "      <th>A</th>\n",
       "      <th>B</th>\n",
       "      <th>C</th>\n",
       "      <th>D</th>\n",
       "    </tr>\n",
       "  </thead>\n",
       "  <tbody>\n",
       "    <tr>\n",
       "      <th>2020-11-13</th>\n",
       "      <td>-0.578288</td>\n",
       "      <td>-0.202190</td>\n",
       "      <td>-0.948373</td>\n",
       "      <td>-0.303444</td>\n",
       "    </tr>\n",
       "    <tr>\n",
       "      <th>2020-11-14</th>\n",
       "      <td>-0.767506</td>\n",
       "      <td>-0.713810</td>\n",
       "      <td>-1.466597</td>\n",
       "      <td>-0.525656</td>\n",
       "    </tr>\n",
       "    <tr>\n",
       "      <th>2020-11-15</th>\n",
       "      <td>-2.120860</td>\n",
       "      <td>-1.342784</td>\n",
       "      <td>0.185338</td>\n",
       "      <td>-0.350059</td>\n",
       "    </tr>\n",
       "  </tbody>\n",
       "</table>\n",
       "</div>"
      ],
      "text/plain": [
       "                   A         B         C         D\n",
       "2020-11-13 -0.578288 -0.202190 -0.948373 -0.303444\n",
       "2020-11-14 -0.767506 -0.713810 -1.466597 -0.525656\n",
       "2020-11-15 -2.120860 -1.342784  0.185338 -0.350059"
      ]
     },
     "execution_count": 14,
     "metadata": {},
     "output_type": "execute_result"
    }
   ],
   "source": [
    "df[0:3]"
   ]
  },
  {
   "cell_type": "code",
   "execution_count": 15,
   "metadata": {},
   "outputs": [
    {
     "data": {
      "text/plain": [
       "A   -0.578288\n",
       "B   -0.202190\n",
       "C   -0.948373\n",
       "D   -0.303444\n",
       "Name: 2020-11-13 00:00:00, dtype: float64"
      ]
     },
     "execution_count": 15,
     "metadata": {},
     "output_type": "execute_result"
    }
   ],
   "source": [
    "df.loc['2020-11-13']"
   ]
  },
  {
   "cell_type": "code",
   "execution_count": 16,
   "metadata": {},
   "outputs": [
    {
     "data": {
      "text/plain": [
       "A   -0.578288\n",
       "Name: 2020-11-13 00:00:00, dtype: float64"
      ]
     },
     "execution_count": 16,
     "metadata": {},
     "output_type": "execute_result"
    }
   ],
   "source": [
    "df.loc['2020-11-13',['A']]"
   ]
  },
  {
   "cell_type": "code",
   "execution_count": 17,
   "metadata": {},
   "outputs": [
    {
     "data": {
      "text/plain": [
       "A   -0.578288\n",
       "B   -0.202190\n",
       "Name: 2020-11-13 00:00:00, dtype: float64"
      ]
     },
     "execution_count": 17,
     "metadata": {},
     "output_type": "execute_result"
    }
   ],
   "source": [
    "df.loc['2020-11-13',['A','B']]"
   ]
  },
  {
   "cell_type": "code",
   "execution_count": 18,
   "metadata": {},
   "outputs": [
    {
     "data": {
      "text/html": [
       "<div>\n",
       "<style scoped>\n",
       "    .dataframe tbody tr th:only-of-type {\n",
       "        vertical-align: middle;\n",
       "    }\n",
       "\n",
       "    .dataframe tbody tr th {\n",
       "        vertical-align: top;\n",
       "    }\n",
       "\n",
       "    .dataframe thead th {\n",
       "        text-align: right;\n",
       "    }\n",
       "</style>\n",
       "<table border=\"1\" class=\"dataframe\">\n",
       "  <thead>\n",
       "    <tr style=\"text-align: right;\">\n",
       "      <th></th>\n",
       "      <th>A</th>\n",
       "    </tr>\n",
       "  </thead>\n",
       "  <tbody>\n",
       "    <tr>\n",
       "      <th>2020-11-13</th>\n",
       "      <td>-0.578288</td>\n",
       "    </tr>\n",
       "    <tr>\n",
       "      <th>2020-11-14</th>\n",
       "      <td>-0.767506</td>\n",
       "    </tr>\n",
       "    <tr>\n",
       "      <th>2020-11-15</th>\n",
       "      <td>-2.120860</td>\n",
       "    </tr>\n",
       "  </tbody>\n",
       "</table>\n",
       "</div>"
      ],
      "text/plain": [
       "                   A\n",
       "2020-11-13 -0.578288\n",
       "2020-11-14 -0.767506\n",
       "2020-11-15 -2.120860"
      ]
     },
     "execution_count": 18,
     "metadata": {},
     "output_type": "execute_result"
    }
   ],
   "source": [
    "df.loc['2020-11-13':'2020-11-15',['A']]"
   ]
  },
  {
   "cell_type": "code",
   "execution_count": 19,
   "metadata": {},
   "outputs": [
    {
     "data": {
      "text/html": [
       "<div>\n",
       "<style scoped>\n",
       "    .dataframe tbody tr th:only-of-type {\n",
       "        vertical-align: middle;\n",
       "    }\n",
       "\n",
       "    .dataframe tbody tr th {\n",
       "        vertical-align: top;\n",
       "    }\n",
       "\n",
       "    .dataframe thead th {\n",
       "        text-align: right;\n",
       "    }\n",
       "</style>\n",
       "<table border=\"1\" class=\"dataframe\">\n",
       "  <thead>\n",
       "    <tr style=\"text-align: right;\">\n",
       "      <th></th>\n",
       "      <th>A</th>\n",
       "    </tr>\n",
       "  </thead>\n",
       "  <tbody>\n",
       "    <tr>\n",
       "      <th>2020-11-13</th>\n",
       "      <td>-0.578288</td>\n",
       "    </tr>\n",
       "    <tr>\n",
       "      <th>2020-11-14</th>\n",
       "      <td>-0.767506</td>\n",
       "    </tr>\n",
       "    <tr>\n",
       "      <th>2020-11-15</th>\n",
       "      <td>-2.120860</td>\n",
       "    </tr>\n",
       "    <tr>\n",
       "      <th>2020-11-16</th>\n",
       "      <td>-1.052932</td>\n",
       "    </tr>\n",
       "    <tr>\n",
       "      <th>2020-11-17</th>\n",
       "      <td>-0.671928</td>\n",
       "    </tr>\n",
       "    <tr>\n",
       "      <th>2020-11-18</th>\n",
       "      <td>-1.321047</td>\n",
       "    </tr>\n",
       "  </tbody>\n",
       "</table>\n",
       "</div>"
      ],
      "text/plain": [
       "                   A\n",
       "2020-11-13 -0.578288\n",
       "2020-11-14 -0.767506\n",
       "2020-11-15 -2.120860\n",
       "2020-11-16 -1.052932\n",
       "2020-11-17 -0.671928\n",
       "2020-11-18 -1.321047"
      ]
     },
     "execution_count": 19,
     "metadata": {},
     "output_type": "execute_result"
    }
   ],
   "source": [
    "df.loc[:,['A']]"
   ]
  },
  {
   "cell_type": "code",
   "execution_count": 20,
   "metadata": {},
   "outputs": [
    {
     "data": {
      "text/html": [
       "<div>\n",
       "<style scoped>\n",
       "    .dataframe tbody tr th:only-of-type {\n",
       "        vertical-align: middle;\n",
       "    }\n",
       "\n",
       "    .dataframe tbody tr th {\n",
       "        vertical-align: top;\n",
       "    }\n",
       "\n",
       "    .dataframe thead th {\n",
       "        text-align: right;\n",
       "    }\n",
       "</style>\n",
       "<table border=\"1\" class=\"dataframe\">\n",
       "  <thead>\n",
       "    <tr style=\"text-align: right;\">\n",
       "      <th></th>\n",
       "      <th>A</th>\n",
       "      <th>B</th>\n",
       "      <th>C</th>\n",
       "      <th>D</th>\n",
       "    </tr>\n",
       "  </thead>\n",
       "  <tbody>\n",
       "    <tr>\n",
       "      <th>2020-11-13</th>\n",
       "      <td>-0.578288</td>\n",
       "      <td>-0.20219</td>\n",
       "      <td>-0.948373</td>\n",
       "      <td>-0.303444</td>\n",
       "    </tr>\n",
       "    <tr>\n",
       "      <th>2020-11-14</th>\n",
       "      <td>-0.767506</td>\n",
       "      <td>-0.71381</td>\n",
       "      <td>-1.466597</td>\n",
       "      <td>-0.525656</td>\n",
       "    </tr>\n",
       "  </tbody>\n",
       "</table>\n",
       "</div>"
      ],
      "text/plain": [
       "                   A        B         C         D\n",
       "2020-11-13 -0.578288 -0.20219 -0.948373 -0.303444\n",
       "2020-11-14 -0.767506 -0.71381 -1.466597 -0.525656"
      ]
     },
     "execution_count": 20,
     "metadata": {},
     "output_type": "execute_result"
    }
   ],
   "source": [
    "df.iloc[0:2]"
   ]
  },
  {
   "cell_type": "code",
   "execution_count": 21,
   "metadata": {},
   "outputs": [
    {
     "data": {
      "text/html": [
       "<div>\n",
       "<style scoped>\n",
       "    .dataframe tbody tr th:only-of-type {\n",
       "        vertical-align: middle;\n",
       "    }\n",
       "\n",
       "    .dataframe tbody tr th {\n",
       "        vertical-align: top;\n",
       "    }\n",
       "\n",
       "    .dataframe thead th {\n",
       "        text-align: right;\n",
       "    }\n",
       "</style>\n",
       "<table border=\"1\" class=\"dataframe\">\n",
       "  <thead>\n",
       "    <tr style=\"text-align: right;\">\n",
       "      <th></th>\n",
       "      <th>A</th>\n",
       "      <th>B</th>\n",
       "      <th>C</th>\n",
       "      <th>D</th>\n",
       "    </tr>\n",
       "  </thead>\n",
       "  <tbody>\n",
       "    <tr>\n",
       "      <th>2020-11-14</th>\n",
       "      <td>-0.767506</td>\n",
       "      <td>-0.713810</td>\n",
       "      <td>-1.466597</td>\n",
       "      <td>-0.525656</td>\n",
       "    </tr>\n",
       "    <tr>\n",
       "      <th>2020-11-15</th>\n",
       "      <td>-2.120860</td>\n",
       "      <td>-1.342784</td>\n",
       "      <td>0.185338</td>\n",
       "      <td>-0.350059</td>\n",
       "    </tr>\n",
       "  </tbody>\n",
       "</table>\n",
       "</div>"
      ],
      "text/plain": [
       "                   A         B         C         D\n",
       "2020-11-14 -0.767506 -0.713810 -1.466597 -0.525656\n",
       "2020-11-15 -2.120860 -1.342784  0.185338 -0.350059"
      ]
     },
     "execution_count": 21,
     "metadata": {},
     "output_type": "execute_result"
    }
   ],
   "source": [
    "df.iloc[1:3]"
   ]
  },
  {
   "cell_type": "code",
   "execution_count": 22,
   "metadata": {},
   "outputs": [
    {
     "data": {
      "text/html": [
       "<div>\n",
       "<style scoped>\n",
       "    .dataframe tbody tr th:only-of-type {\n",
       "        vertical-align: middle;\n",
       "    }\n",
       "\n",
       "    .dataframe tbody tr th {\n",
       "        vertical-align: top;\n",
       "    }\n",
       "\n",
       "    .dataframe thead th {\n",
       "        text-align: right;\n",
       "    }\n",
       "</style>\n",
       "<table border=\"1\" class=\"dataframe\">\n",
       "  <thead>\n",
       "    <tr style=\"text-align: right;\">\n",
       "      <th></th>\n",
       "      <th>A</th>\n",
       "      <th>B</th>\n",
       "      <th>C</th>\n",
       "      <th>D</th>\n",
       "    </tr>\n",
       "  </thead>\n",
       "  <tbody>\n",
       "    <tr>\n",
       "      <th>2020-11-15</th>\n",
       "      <td>-2.12086</td>\n",
       "      <td>-1.342784</td>\n",
       "      <td>0.185338</td>\n",
       "      <td>-0.350059</td>\n",
       "    </tr>\n",
       "  </tbody>\n",
       "</table>\n",
       "</div>"
      ],
      "text/plain": [
       "                  A         B         C         D\n",
       "2020-11-15 -2.12086 -1.342784  0.185338 -0.350059"
      ]
     },
     "execution_count": 22,
     "metadata": {},
     "output_type": "execute_result"
    }
   ],
   "source": [
    "df.iloc[2:3]"
   ]
  },
  {
   "cell_type": "code",
   "execution_count": 23,
   "metadata": {},
   "outputs": [
    {
     "data": {
      "text/html": [
       "<div>\n",
       "<style scoped>\n",
       "    .dataframe tbody tr th:only-of-type {\n",
       "        vertical-align: middle;\n",
       "    }\n",
       "\n",
       "    .dataframe tbody tr th {\n",
       "        vertical-align: top;\n",
       "    }\n",
       "\n",
       "    .dataframe thead th {\n",
       "        text-align: right;\n",
       "    }\n",
       "</style>\n",
       "<table border=\"1\" class=\"dataframe\">\n",
       "  <thead>\n",
       "    <tr style=\"text-align: right;\">\n",
       "      <th></th>\n",
       "      <th>A</th>\n",
       "      <th>B</th>\n",
       "    </tr>\n",
       "  </thead>\n",
       "  <tbody>\n",
       "    <tr>\n",
       "      <th>2020-11-13</th>\n",
       "      <td>-0.578288</td>\n",
       "      <td>-0.20219</td>\n",
       "    </tr>\n",
       "    <tr>\n",
       "      <th>2020-11-14</th>\n",
       "      <td>-0.767506</td>\n",
       "      <td>-0.71381</td>\n",
       "    </tr>\n",
       "  </tbody>\n",
       "</table>\n",
       "</div>"
      ],
      "text/plain": [
       "                   A        B\n",
       "2020-11-13 -0.578288 -0.20219\n",
       "2020-11-14 -0.767506 -0.71381"
      ]
     },
     "execution_count": 23,
     "metadata": {},
     "output_type": "execute_result"
    }
   ],
   "source": [
    "df.iloc[0:2,0:2]"
   ]
  },
  {
   "cell_type": "code",
   "execution_count": 24,
   "metadata": {},
   "outputs": [
    {
     "data": {
      "text/html": [
       "<div>\n",
       "<style scoped>\n",
       "    .dataframe tbody tr th:only-of-type {\n",
       "        vertical-align: middle;\n",
       "    }\n",
       "\n",
       "    .dataframe tbody tr th {\n",
       "        vertical-align: top;\n",
       "    }\n",
       "\n",
       "    .dataframe thead th {\n",
       "        text-align: right;\n",
       "    }\n",
       "</style>\n",
       "<table border=\"1\" class=\"dataframe\">\n",
       "  <thead>\n",
       "    <tr style=\"text-align: right;\">\n",
       "      <th></th>\n",
       "      <th>A</th>\n",
       "      <th>B</th>\n",
       "      <th>C</th>\n",
       "      <th>D</th>\n",
       "    </tr>\n",
       "  </thead>\n",
       "  <tbody>\n",
       "    <tr>\n",
       "      <th>2020-11-13</th>\n",
       "      <td>-0.578288</td>\n",
       "      <td>-0.20219</td>\n",
       "      <td>-0.948373</td>\n",
       "      <td>-0.303444</td>\n",
       "    </tr>\n",
       "    <tr>\n",
       "      <th>2020-11-14</th>\n",
       "      <td>-0.767506</td>\n",
       "      <td>-0.71381</td>\n",
       "      <td>-1.466597</td>\n",
       "      <td>-0.525656</td>\n",
       "    </tr>\n",
       "  </tbody>\n",
       "</table>\n",
       "</div>"
      ],
      "text/plain": [
       "                   A        B         C         D\n",
       "2020-11-13 -0.578288 -0.20219 -0.948373 -0.303444\n",
       "2020-11-14 -0.767506 -0.71381 -1.466597 -0.525656"
      ]
     },
     "execution_count": 24,
     "metadata": {},
     "output_type": "execute_result"
    }
   ],
   "source": [
    "df.iloc[0:2,0:4]"
   ]
  },
  {
   "cell_type": "code",
   "execution_count": 25,
   "metadata": {},
   "outputs": [
    {
     "data": {
      "text/plain": [
       "2020-11-13    False\n",
       "2020-11-14    False\n",
       "2020-11-15    False\n",
       "2020-11-16    False\n",
       "2020-11-17    False\n",
       "2020-11-18    False\n",
       "Freq: D, Name: A, dtype: bool"
      ]
     },
     "execution_count": 25,
     "metadata": {},
     "output_type": "execute_result"
    }
   ],
   "source": [
    "df['A']>0"
   ]
  },
  {
   "cell_type": "code",
   "execution_count": 26,
   "metadata": {},
   "outputs": [
    {
     "data": {
      "text/html": [
       "<div>\n",
       "<style scoped>\n",
       "    .dataframe tbody tr th:only-of-type {\n",
       "        vertical-align: middle;\n",
       "    }\n",
       "\n",
       "    .dataframe tbody tr th {\n",
       "        vertical-align: top;\n",
       "    }\n",
       "\n",
       "    .dataframe thead th {\n",
       "        text-align: right;\n",
       "    }\n",
       "</style>\n",
       "<table border=\"1\" class=\"dataframe\">\n",
       "  <thead>\n",
       "    <tr style=\"text-align: right;\">\n",
       "      <th></th>\n",
       "      <th>A</th>\n",
       "      <th>B</th>\n",
       "      <th>C</th>\n",
       "      <th>D</th>\n",
       "    </tr>\n",
       "  </thead>\n",
       "  <tbody>\n",
       "    <tr>\n",
       "      <th>2020-11-13</th>\n",
       "      <td>False</td>\n",
       "      <td>False</td>\n",
       "      <td>False</td>\n",
       "      <td>False</td>\n",
       "    </tr>\n",
       "    <tr>\n",
       "      <th>2020-11-14</th>\n",
       "      <td>False</td>\n",
       "      <td>False</td>\n",
       "      <td>False</td>\n",
       "      <td>False</td>\n",
       "    </tr>\n",
       "    <tr>\n",
       "      <th>2020-11-15</th>\n",
       "      <td>False</td>\n",
       "      <td>False</td>\n",
       "      <td>True</td>\n",
       "      <td>False</td>\n",
       "    </tr>\n",
       "    <tr>\n",
       "      <th>2020-11-16</th>\n",
       "      <td>False</td>\n",
       "      <td>True</td>\n",
       "      <td>False</td>\n",
       "      <td>False</td>\n",
       "    </tr>\n",
       "    <tr>\n",
       "      <th>2020-11-17</th>\n",
       "      <td>False</td>\n",
       "      <td>False</td>\n",
       "      <td>True</td>\n",
       "      <td>True</td>\n",
       "    </tr>\n",
       "    <tr>\n",
       "      <th>2020-11-18</th>\n",
       "      <td>False</td>\n",
       "      <td>True</td>\n",
       "      <td>False</td>\n",
       "      <td>False</td>\n",
       "    </tr>\n",
       "  </tbody>\n",
       "</table>\n",
       "</div>"
      ],
      "text/plain": [
       "                A      B      C      D\n",
       "2020-11-13  False  False  False  False\n",
       "2020-11-14  False  False  False  False\n",
       "2020-11-15  False  False   True  False\n",
       "2020-11-16  False   True  False  False\n",
       "2020-11-17  False  False   True   True\n",
       "2020-11-18  False   True  False  False"
      ]
     },
     "execution_count": 26,
     "metadata": {},
     "output_type": "execute_result"
    }
   ],
   "source": [
    "df>0"
   ]
  },
  {
   "cell_type": "code",
   "execution_count": 27,
   "metadata": {},
   "outputs": [
    {
     "data": {
      "text/html": [
       "<div>\n",
       "<style scoped>\n",
       "    .dataframe tbody tr th:only-of-type {\n",
       "        vertical-align: middle;\n",
       "    }\n",
       "\n",
       "    .dataframe tbody tr th {\n",
       "        vertical-align: top;\n",
       "    }\n",
       "\n",
       "    .dataframe thead th {\n",
       "        text-align: right;\n",
       "    }\n",
       "</style>\n",
       "<table border=\"1\" class=\"dataframe\">\n",
       "  <thead>\n",
       "    <tr style=\"text-align: right;\">\n",
       "      <th></th>\n",
       "      <th>A</th>\n",
       "      <th>B</th>\n",
       "      <th>C</th>\n",
       "      <th>D</th>\n",
       "    </tr>\n",
       "  </thead>\n",
       "  <tbody>\n",
       "    <tr>\n",
       "      <th>2020-11-13</th>\n",
       "      <td>NaN</td>\n",
       "      <td>NaN</td>\n",
       "      <td>NaN</td>\n",
       "      <td>NaN</td>\n",
       "    </tr>\n",
       "    <tr>\n",
       "      <th>2020-11-14</th>\n",
       "      <td>NaN</td>\n",
       "      <td>NaN</td>\n",
       "      <td>NaN</td>\n",
       "      <td>NaN</td>\n",
       "    </tr>\n",
       "    <tr>\n",
       "      <th>2020-11-15</th>\n",
       "      <td>NaN</td>\n",
       "      <td>NaN</td>\n",
       "      <td>0.185338</td>\n",
       "      <td>NaN</td>\n",
       "    </tr>\n",
       "    <tr>\n",
       "      <th>2020-11-16</th>\n",
       "      <td>NaN</td>\n",
       "      <td>1.216394</td>\n",
       "      <td>NaN</td>\n",
       "      <td>NaN</td>\n",
       "    </tr>\n",
       "    <tr>\n",
       "      <th>2020-11-17</th>\n",
       "      <td>NaN</td>\n",
       "      <td>NaN</td>\n",
       "      <td>0.736743</td>\n",
       "      <td>0.69847</td>\n",
       "    </tr>\n",
       "    <tr>\n",
       "      <th>2020-11-18</th>\n",
       "      <td>NaN</td>\n",
       "      <td>0.948187</td>\n",
       "      <td>NaN</td>\n",
       "      <td>NaN</td>\n",
       "    </tr>\n",
       "  </tbody>\n",
       "</table>\n",
       "</div>"
      ],
      "text/plain": [
       "             A         B         C        D\n",
       "2020-11-13 NaN       NaN       NaN      NaN\n",
       "2020-11-14 NaN       NaN       NaN      NaN\n",
       "2020-11-15 NaN       NaN  0.185338      NaN\n",
       "2020-11-16 NaN  1.216394       NaN      NaN\n",
       "2020-11-17 NaN       NaN  0.736743  0.69847\n",
       "2020-11-18 NaN  0.948187       NaN      NaN"
      ]
     },
     "execution_count": 27,
     "metadata": {},
     "output_type": "execute_result"
    }
   ],
   "source": [
    "df[df>0]"
   ]
  },
  {
   "cell_type": "code",
   "execution_count": 28,
   "metadata": {},
   "outputs": [
    {
     "data": {
      "text/html": [
       "<div>\n",
       "<style scoped>\n",
       "    .dataframe tbody tr th:only-of-type {\n",
       "        vertical-align: middle;\n",
       "    }\n",
       "\n",
       "    .dataframe tbody tr th {\n",
       "        vertical-align: top;\n",
       "    }\n",
       "\n",
       "    .dataframe thead th {\n",
       "        text-align: right;\n",
       "    }\n",
       "</style>\n",
       "<table border=\"1\" class=\"dataframe\">\n",
       "  <thead>\n",
       "    <tr style=\"text-align: right;\">\n",
       "      <th></th>\n",
       "      <th>A</th>\n",
       "      <th>B</th>\n",
       "      <th>C</th>\n",
       "      <th>D</th>\n",
       "    </tr>\n",
       "  </thead>\n",
       "  <tbody>\n",
       "  </tbody>\n",
       "</table>\n",
       "</div>"
      ],
      "text/plain": [
       "Empty DataFrame\n",
       "Columns: [A, B, C, D]\n",
       "Index: []"
      ]
     },
     "execution_count": 28,
     "metadata": {},
     "output_type": "execute_result"
    }
   ],
   "source": [
    "df[df['A']>0]"
   ]
  },
  {
   "cell_type": "code",
   "execution_count": 29,
   "metadata": {},
   "outputs": [],
   "source": [
    "df2= pd.DataFrame(df, columns=['A','C','D','B'])"
   ]
  },
  {
   "cell_type": "code",
   "execution_count": 30,
   "metadata": {},
   "outputs": [
    {
     "data": {
      "text/html": [
       "<div>\n",
       "<style scoped>\n",
       "    .dataframe tbody tr th:only-of-type {\n",
       "        vertical-align: middle;\n",
       "    }\n",
       "\n",
       "    .dataframe tbody tr th {\n",
       "        vertical-align: top;\n",
       "    }\n",
       "\n",
       "    .dataframe thead th {\n",
       "        text-align: right;\n",
       "    }\n",
       "</style>\n",
       "<table border=\"1\" class=\"dataframe\">\n",
       "  <thead>\n",
       "    <tr style=\"text-align: right;\">\n",
       "      <th></th>\n",
       "      <th>A</th>\n",
       "      <th>C</th>\n",
       "      <th>D</th>\n",
       "      <th>B</th>\n",
       "    </tr>\n",
       "  </thead>\n",
       "  <tbody>\n",
       "    <tr>\n",
       "      <th>2020-11-13</th>\n",
       "      <td>-0.578288</td>\n",
       "      <td>-0.948373</td>\n",
       "      <td>-0.303444</td>\n",
       "      <td>-0.202190</td>\n",
       "    </tr>\n",
       "    <tr>\n",
       "      <th>2020-11-14</th>\n",
       "      <td>-0.767506</td>\n",
       "      <td>-1.466597</td>\n",
       "      <td>-0.525656</td>\n",
       "      <td>-0.713810</td>\n",
       "    </tr>\n",
       "    <tr>\n",
       "      <th>2020-11-15</th>\n",
       "      <td>-2.120860</td>\n",
       "      <td>0.185338</td>\n",
       "      <td>-0.350059</td>\n",
       "      <td>-1.342784</td>\n",
       "    </tr>\n",
       "    <tr>\n",
       "      <th>2020-11-16</th>\n",
       "      <td>-1.052932</td>\n",
       "      <td>-1.405198</td>\n",
       "      <td>-0.594812</td>\n",
       "      <td>1.216394</td>\n",
       "    </tr>\n",
       "    <tr>\n",
       "      <th>2020-11-17</th>\n",
       "      <td>-0.671928</td>\n",
       "      <td>0.736743</td>\n",
       "      <td>0.698470</td>\n",
       "      <td>-1.459705</td>\n",
       "    </tr>\n",
       "    <tr>\n",
       "      <th>2020-11-18</th>\n",
       "      <td>-1.321047</td>\n",
       "      <td>-1.670727</td>\n",
       "      <td>-1.190644</td>\n",
       "      <td>0.948187</td>\n",
       "    </tr>\n",
       "  </tbody>\n",
       "</table>\n",
       "</div>"
      ],
      "text/plain": [
       "                   A         C         D         B\n",
       "2020-11-13 -0.578288 -0.948373 -0.303444 -0.202190\n",
       "2020-11-14 -0.767506 -1.466597 -0.525656 -0.713810\n",
       "2020-11-15 -2.120860  0.185338 -0.350059 -1.342784\n",
       "2020-11-16 -1.052932 -1.405198 -0.594812  1.216394\n",
       "2020-11-17 -0.671928  0.736743  0.698470 -1.459705\n",
       "2020-11-18 -1.321047 -1.670727 -1.190644  0.948187"
      ]
     },
     "execution_count": 30,
     "metadata": {},
     "output_type": "execute_result"
    }
   ],
   "source": [
    "df2"
   ]
  },
  {
   "cell_type": "code",
   "execution_count": 31,
   "metadata": {},
   "outputs": [],
   "source": [
    "df['F'] = np.nan"
   ]
  },
  {
   "cell_type": "code",
   "execution_count": 32,
   "metadata": {},
   "outputs": [
    {
     "data": {
      "text/html": [
       "<div>\n",
       "<style scoped>\n",
       "    .dataframe tbody tr th:only-of-type {\n",
       "        vertical-align: middle;\n",
       "    }\n",
       "\n",
       "    .dataframe tbody tr th {\n",
       "        vertical-align: top;\n",
       "    }\n",
       "\n",
       "    .dataframe thead th {\n",
       "        text-align: right;\n",
       "    }\n",
       "</style>\n",
       "<table border=\"1\" class=\"dataframe\">\n",
       "  <thead>\n",
       "    <tr style=\"text-align: right;\">\n",
       "      <th></th>\n",
       "      <th>A</th>\n",
       "      <th>B</th>\n",
       "      <th>C</th>\n",
       "      <th>D</th>\n",
       "      <th>F</th>\n",
       "    </tr>\n",
       "  </thead>\n",
       "  <tbody>\n",
       "    <tr>\n",
       "      <th>2020-11-13</th>\n",
       "      <td>-0.578288</td>\n",
       "      <td>-0.202190</td>\n",
       "      <td>-0.948373</td>\n",
       "      <td>-0.303444</td>\n",
       "      <td>NaN</td>\n",
       "    </tr>\n",
       "    <tr>\n",
       "      <th>2020-11-14</th>\n",
       "      <td>-0.767506</td>\n",
       "      <td>-0.713810</td>\n",
       "      <td>-1.466597</td>\n",
       "      <td>-0.525656</td>\n",
       "      <td>NaN</td>\n",
       "    </tr>\n",
       "    <tr>\n",
       "      <th>2020-11-15</th>\n",
       "      <td>-2.120860</td>\n",
       "      <td>-1.342784</td>\n",
       "      <td>0.185338</td>\n",
       "      <td>-0.350059</td>\n",
       "      <td>NaN</td>\n",
       "    </tr>\n",
       "    <tr>\n",
       "      <th>2020-11-16</th>\n",
       "      <td>-1.052932</td>\n",
       "      <td>1.216394</td>\n",
       "      <td>-1.405198</td>\n",
       "      <td>-0.594812</td>\n",
       "      <td>NaN</td>\n",
       "    </tr>\n",
       "    <tr>\n",
       "      <th>2020-11-17</th>\n",
       "      <td>-0.671928</td>\n",
       "      <td>-1.459705</td>\n",
       "      <td>0.736743</td>\n",
       "      <td>0.698470</td>\n",
       "      <td>NaN</td>\n",
       "    </tr>\n",
       "    <tr>\n",
       "      <th>2020-11-18</th>\n",
       "      <td>-1.321047</td>\n",
       "      <td>0.948187</td>\n",
       "      <td>-1.670727</td>\n",
       "      <td>-1.190644</td>\n",
       "      <td>NaN</td>\n",
       "    </tr>\n",
       "  </tbody>\n",
       "</table>\n",
       "</div>"
      ],
      "text/plain": [
       "                   A         B         C         D   F\n",
       "2020-11-13 -0.578288 -0.202190 -0.948373 -0.303444 NaN\n",
       "2020-11-14 -0.767506 -0.713810 -1.466597 -0.525656 NaN\n",
       "2020-11-15 -2.120860 -1.342784  0.185338 -0.350059 NaN\n",
       "2020-11-16 -1.052932  1.216394 -1.405198 -0.594812 NaN\n",
       "2020-11-17 -0.671928 -1.459705  0.736743  0.698470 NaN\n",
       "2020-11-18 -1.321047  0.948187 -1.670727 -1.190644 NaN"
      ]
     },
     "execution_count": 32,
     "metadata": {},
     "output_type": "execute_result"
    }
   ],
   "source": [
    "df"
   ]
  },
  {
   "cell_type": "code",
   "execution_count": 33,
   "metadata": {},
   "outputs": [
    {
     "data": {
      "text/html": [
       "<div>\n",
       "<style scoped>\n",
       "    .dataframe tbody tr th:only-of-type {\n",
       "        vertical-align: middle;\n",
       "    }\n",
       "\n",
       "    .dataframe tbody tr th {\n",
       "        vertical-align: top;\n",
       "    }\n",
       "\n",
       "    .dataframe thead th {\n",
       "        text-align: right;\n",
       "    }\n",
       "</style>\n",
       "<table border=\"1\" class=\"dataframe\">\n",
       "  <thead>\n",
       "    <tr style=\"text-align: right;\">\n",
       "      <th></th>\n",
       "      <th>A</th>\n",
       "      <th>B</th>\n",
       "      <th>C</th>\n",
       "      <th>D</th>\n",
       "      <th>F</th>\n",
       "      <th>E</th>\n",
       "    </tr>\n",
       "  </thead>\n",
       "  <tbody>\n",
       "    <tr>\n",
       "      <th>2020-11-13</th>\n",
       "      <td>-0.578288</td>\n",
       "      <td>-0.202190</td>\n",
       "      <td>-0.948373</td>\n",
       "      <td>-0.303444</td>\n",
       "      <td>NaN</td>\n",
       "      <td>10.0</td>\n",
       "    </tr>\n",
       "    <tr>\n",
       "      <th>2020-11-14</th>\n",
       "      <td>-0.767506</td>\n",
       "      <td>-0.713810</td>\n",
       "      <td>-1.466597</td>\n",
       "      <td>-0.525656</td>\n",
       "      <td>NaN</td>\n",
       "      <td>NaN</td>\n",
       "    </tr>\n",
       "    <tr>\n",
       "      <th>2020-11-15</th>\n",
       "      <td>-2.120860</td>\n",
       "      <td>-1.342784</td>\n",
       "      <td>0.185338</td>\n",
       "      <td>-0.350059</td>\n",
       "      <td>NaN</td>\n",
       "      <td>NaN</td>\n",
       "    </tr>\n",
       "    <tr>\n",
       "      <th>2020-11-16</th>\n",
       "      <td>-1.052932</td>\n",
       "      <td>1.216394</td>\n",
       "      <td>-1.405198</td>\n",
       "      <td>-0.594812</td>\n",
       "      <td>NaN</td>\n",
       "      <td>NaN</td>\n",
       "    </tr>\n",
       "    <tr>\n",
       "      <th>2020-11-17</th>\n",
       "      <td>-0.671928</td>\n",
       "      <td>-1.459705</td>\n",
       "      <td>0.736743</td>\n",
       "      <td>0.698470</td>\n",
       "      <td>NaN</td>\n",
       "      <td>NaN</td>\n",
       "    </tr>\n",
       "    <tr>\n",
       "      <th>2020-11-18</th>\n",
       "      <td>-1.321047</td>\n",
       "      <td>0.948187</td>\n",
       "      <td>-1.670727</td>\n",
       "      <td>-1.190644</td>\n",
       "      <td>NaN</td>\n",
       "      <td>NaN</td>\n",
       "    </tr>\n",
       "  </tbody>\n",
       "</table>\n",
       "</div>"
      ],
      "text/plain": [
       "                   A         B         C         D   F     E\n",
       "2020-11-13 -0.578288 -0.202190 -0.948373 -0.303444 NaN  10.0\n",
       "2020-11-14 -0.767506 -0.713810 -1.466597 -0.525656 NaN   NaN\n",
       "2020-11-15 -2.120860 -1.342784  0.185338 -0.350059 NaN   NaN\n",
       "2020-11-16 -1.052932  1.216394 -1.405198 -0.594812 NaN   NaN\n",
       "2020-11-17 -0.671928 -1.459705  0.736743  0.698470 NaN   NaN\n",
       "2020-11-18 -1.321047  0.948187 -1.670727 -1.190644 NaN   NaN"
      ]
     },
     "execution_count": 33,
     "metadata": {},
     "output_type": "execute_result"
    }
   ],
   "source": [
    "df.loc['2020-11-13',['E']] = 10\n",
    "df"
   ]
  },
  {
   "cell_type": "code",
   "execution_count": 34,
   "metadata": {},
   "outputs": [
    {
     "data": {
      "text/html": [
       "<div>\n",
       "<style scoped>\n",
       "    .dataframe tbody tr th:only-of-type {\n",
       "        vertical-align: middle;\n",
       "    }\n",
       "\n",
       "    .dataframe tbody tr th {\n",
       "        vertical-align: top;\n",
       "    }\n",
       "\n",
       "    .dataframe thead th {\n",
       "        text-align: right;\n",
       "    }\n",
       "</style>\n",
       "<table border=\"1\" class=\"dataframe\">\n",
       "  <thead>\n",
       "    <tr style=\"text-align: right;\">\n",
       "      <th></th>\n",
       "      <th>A</th>\n",
       "      <th>B</th>\n",
       "      <th>C</th>\n",
       "      <th>D</th>\n",
       "      <th>F</th>\n",
       "      <th>E</th>\n",
       "      <th>G</th>\n",
       "    </tr>\n",
       "  </thead>\n",
       "  <tbody>\n",
       "    <tr>\n",
       "      <th>2020-11-13</th>\n",
       "      <td>-0.578288</td>\n",
       "      <td>-0.202190</td>\n",
       "      <td>-0.948373</td>\n",
       "      <td>-0.303444</td>\n",
       "      <td>NaN</td>\n",
       "      <td>10.0</td>\n",
       "      <td>-0.780478</td>\n",
       "    </tr>\n",
       "    <tr>\n",
       "      <th>2020-11-14</th>\n",
       "      <td>-0.767506</td>\n",
       "      <td>-0.713810</td>\n",
       "      <td>-1.466597</td>\n",
       "      <td>-0.525656</td>\n",
       "      <td>NaN</td>\n",
       "      <td>NaN</td>\n",
       "      <td>-1.481316</td>\n",
       "    </tr>\n",
       "    <tr>\n",
       "      <th>2020-11-15</th>\n",
       "      <td>-2.120860</td>\n",
       "      <td>-1.342784</td>\n",
       "      <td>0.185338</td>\n",
       "      <td>-0.350059</td>\n",
       "      <td>NaN</td>\n",
       "      <td>NaN</td>\n",
       "      <td>-3.463644</td>\n",
       "    </tr>\n",
       "    <tr>\n",
       "      <th>2020-11-16</th>\n",
       "      <td>-1.052932</td>\n",
       "      <td>1.216394</td>\n",
       "      <td>-1.405198</td>\n",
       "      <td>-0.594812</td>\n",
       "      <td>NaN</td>\n",
       "      <td>NaN</td>\n",
       "      <td>0.163462</td>\n",
       "    </tr>\n",
       "    <tr>\n",
       "      <th>2020-11-17</th>\n",
       "      <td>-0.671928</td>\n",
       "      <td>-1.459705</td>\n",
       "      <td>0.736743</td>\n",
       "      <td>0.698470</td>\n",
       "      <td>NaN</td>\n",
       "      <td>NaN</td>\n",
       "      <td>-2.131633</td>\n",
       "    </tr>\n",
       "    <tr>\n",
       "      <th>2020-11-18</th>\n",
       "      <td>-1.321047</td>\n",
       "      <td>0.948187</td>\n",
       "      <td>-1.670727</td>\n",
       "      <td>-1.190644</td>\n",
       "      <td>NaN</td>\n",
       "      <td>NaN</td>\n",
       "      <td>-0.372860</td>\n",
       "    </tr>\n",
       "  </tbody>\n",
       "</table>\n",
       "</div>"
      ],
      "text/plain": [
       "                   A         B         C         D   F     E         G\n",
       "2020-11-13 -0.578288 -0.202190 -0.948373 -0.303444 NaN  10.0 -0.780478\n",
       "2020-11-14 -0.767506 -0.713810 -1.466597 -0.525656 NaN   NaN -1.481316\n",
       "2020-11-15 -2.120860 -1.342784  0.185338 -0.350059 NaN   NaN -3.463644\n",
       "2020-11-16 -1.052932  1.216394 -1.405198 -0.594812 NaN   NaN  0.163462\n",
       "2020-11-17 -0.671928 -1.459705  0.736743  0.698470 NaN   NaN -2.131633\n",
       "2020-11-18 -1.321047  0.948187 -1.670727 -1.190644 NaN   NaN -0.372860"
      ]
     },
     "execution_count": 34,
     "metadata": {},
     "output_type": "execute_result"
    }
   ],
   "source": [
    "df['G'] = df['A'] + df['B']\n",
    "df"
   ]
  },
  {
   "cell_type": "code",
   "execution_count": 35,
   "metadata": {},
   "outputs": [
    {
     "data": {
      "text/html": [
       "<div>\n",
       "<style scoped>\n",
       "    .dataframe tbody tr th:only-of-type {\n",
       "        vertical-align: middle;\n",
       "    }\n",
       "\n",
       "    .dataframe tbody tr th {\n",
       "        vertical-align: top;\n",
       "    }\n",
       "\n",
       "    .dataframe thead th {\n",
       "        text-align: right;\n",
       "    }\n",
       "</style>\n",
       "<table border=\"1\" class=\"dataframe\">\n",
       "  <thead>\n",
       "    <tr style=\"text-align: right;\">\n",
       "      <th></th>\n",
       "      <th>기간</th>\n",
       "      <th>구분</th>\n",
       "      <th>스트레스 인지율</th>\n",
       "      <th>스트레스 인지율.1</th>\n",
       "      <th>스트레스 인지율.2</th>\n",
       "      <th>우울감 경험률</th>\n",
       "      <th>우울감 경험률.1</th>\n",
       "      <th>우울감 경험률.2</th>\n",
       "      <th>자살 생각률</th>\n",
       "      <th>자살 생각률.1</th>\n",
       "      <th>자살 생각률.2</th>\n",
       "    </tr>\n",
       "  </thead>\n",
       "  <tbody>\n",
       "    <tr>\n",
       "      <th>0</th>\n",
       "      <td>기간</td>\n",
       "      <td>구분</td>\n",
       "      <td>전체</td>\n",
       "      <td>남학생</td>\n",
       "      <td>여학생</td>\n",
       "      <td>전체</td>\n",
       "      <td>남학생</td>\n",
       "      <td>여학생</td>\n",
       "      <td>전체</td>\n",
       "      <td>남학생</td>\n",
       "      <td>여학생</td>\n",
       "    </tr>\n",
       "    <tr>\n",
       "      <th>1</th>\n",
       "      <td>2019</td>\n",
       "      <td>구분</td>\n",
       "      <td>41.6</td>\n",
       "      <td>34</td>\n",
       "      <td>49.7</td>\n",
       "      <td>29.5</td>\n",
       "      <td>24.5</td>\n",
       "      <td>34.8</td>\n",
       "      <td>14.2</td>\n",
       "      <td>10.8</td>\n",
       "      <td>17.9</td>\n",
       "    </tr>\n",
       "  </tbody>\n",
       "</table>\n",
       "</div>"
      ],
      "text/plain": [
       "     기간  구분 스트레스 인지율 스트레스 인지율.1 스트레스 인지율.2 우울감 경험률 우울감 경험률.1 우울감 경험률.2 자살 생각률  \\\n",
       "0    기간  구분       전체        남학생        여학생      전체       남학생       여학생     전체   \n",
       "1  2019  구분     41.6         34       49.7    29.5      24.5      34.8   14.2   \n",
       "\n",
       "  자살 생각률.1 자살 생각률.2  \n",
       "0      남학생      여학생  \n",
       "1     10.8     17.9  "
      ]
     },
     "execution_count": 35,
     "metadata": {},
     "output_type": "execute_result"
    }
   ],
   "source": [
    "pd.read_excel(\"./seoul_mental_report.xlsx\")"
   ]
  },
  {
   "cell_type": "code",
   "execution_count": 36,
   "metadata": {},
   "outputs": [
    {
     "data": {
      "text/html": [
       "<div>\n",
       "<style scoped>\n",
       "    .dataframe tbody tr th:only-of-type {\n",
       "        vertical-align: middle;\n",
       "    }\n",
       "\n",
       "    .dataframe tbody tr th {\n",
       "        vertical-align: top;\n",
       "    }\n",
       "\n",
       "    .dataframe thead th {\n",
       "        text-align: right;\n",
       "    }\n",
       "</style>\n",
       "<table border=\"1\" class=\"dataframe\">\n",
       "  <thead>\n",
       "    <tr style=\"text-align: right;\">\n",
       "      <th></th>\n",
       "      <th>전체</th>\n",
       "      <th>남학생</th>\n",
       "      <th>여학생</th>\n",
       "      <th>전체.1</th>\n",
       "      <th>남학생.1</th>\n",
       "      <th>여학생.1</th>\n",
       "      <th>전체.2</th>\n",
       "      <th>남학생.2</th>\n",
       "      <th>여학생.2</th>\n",
       "    </tr>\n",
       "  </thead>\n",
       "  <tbody>\n",
       "    <tr>\n",
       "      <th>0</th>\n",
       "      <td>41.6</td>\n",
       "      <td>34</td>\n",
       "      <td>49.7</td>\n",
       "      <td>29.5</td>\n",
       "      <td>24.5</td>\n",
       "      <td>34.8</td>\n",
       "      <td>14.2</td>\n",
       "      <td>10.8</td>\n",
       "      <td>17.9</td>\n",
       "    </tr>\n",
       "  </tbody>\n",
       "</table>\n",
       "</div>"
      ],
      "text/plain": [
       "     전체  남학생   여학생  전체.1  남학생.1  여학생.1  전체.2  남학생.2  여학생.2\n",
       "0  41.6   34  49.7  29.5   24.5   34.8  14.2   10.8   17.9"
      ]
     },
     "execution_count": 36,
     "metadata": {},
     "output_type": "execute_result"
    }
   ],
   "source": [
    "pd.read_excel(\"./seoul_mental_report.xlsx\", header=1, usecols=\"C:K\")"
   ]
  },
  {
   "cell_type": "code",
   "execution_count": 37,
   "metadata": {},
   "outputs": [],
   "source": [
    "col_names = ['스트레스', '스트레스남학생','스트레스여학생','우울감경험률','우울남학생','우울여학생','자살생각률','자살남학생','자살여학생']"
   ]
  },
  {
   "cell_type": "code",
   "execution_count": 38,
   "metadata": {},
   "outputs": [
    {
     "data": {
      "text/html": [
       "<div>\n",
       "<style scoped>\n",
       "    .dataframe tbody tr th:only-of-type {\n",
       "        vertical-align: middle;\n",
       "    }\n",
       "\n",
       "    .dataframe tbody tr th {\n",
       "        vertical-align: top;\n",
       "    }\n",
       "\n",
       "    .dataframe thead th {\n",
       "        text-align: right;\n",
       "    }\n",
       "</style>\n",
       "<table border=\"1\" class=\"dataframe\">\n",
       "  <thead>\n",
       "    <tr style=\"text-align: right;\">\n",
       "      <th></th>\n",
       "      <th>스트레스</th>\n",
       "      <th>스트레스남학생</th>\n",
       "      <th>스트레스여학생</th>\n",
       "      <th>우울감경험률</th>\n",
       "      <th>우울남학생</th>\n",
       "      <th>우울여학생</th>\n",
       "      <th>자살생각률</th>\n",
       "      <th>자살남학생</th>\n",
       "      <th>자살여학생</th>\n",
       "    </tr>\n",
       "  </thead>\n",
       "  <tbody>\n",
       "    <tr>\n",
       "      <th>0</th>\n",
       "      <td>41.6</td>\n",
       "      <td>34</td>\n",
       "      <td>49.7</td>\n",
       "      <td>29.5</td>\n",
       "      <td>24.5</td>\n",
       "      <td>34.8</td>\n",
       "      <td>14.2</td>\n",
       "      <td>10.8</td>\n",
       "      <td>17.9</td>\n",
       "    </tr>\n",
       "  </tbody>\n",
       "</table>\n",
       "</div>"
      ],
      "text/plain": [
       "   스트레스  스트레스남학생  스트레스여학생  우울감경험률  우울남학생  우울여학생  자살생각률  자살남학생  자살여학생\n",
       "0  41.6       34     49.7    29.5   24.5   34.8   14.2   10.8   17.9"
      ]
     },
     "execution_count": 38,
     "metadata": {},
     "output_type": "execute_result"
    }
   ],
   "source": [
    "pd.read_excel(\"./seoul_mental_report.xlsx\",header=1, usecols=\"C:K\", names=col_names)"
   ]
  },
  {
   "cell_type": "code",
   "execution_count": 39,
   "metadata": {},
   "outputs": [
    {
     "data": {
      "text/html": [
       "<div>\n",
       "<style scoped>\n",
       "    .dataframe tbody tr th:only-of-type {\n",
       "        vertical-align: middle;\n",
       "    }\n",
       "\n",
       "    .dataframe tbody tr th {\n",
       "        vertical-align: top;\n",
       "    }\n",
       "\n",
       "    .dataframe thead th {\n",
       "        text-align: right;\n",
       "    }\n",
       "</style>\n",
       "<table border=\"1\" class=\"dataframe\">\n",
       "  <thead>\n",
       "    <tr style=\"text-align: right;\">\n",
       "      <th></th>\n",
       "      <th>스트레스</th>\n",
       "      <th>스트레스 남학생</th>\n",
       "      <th>스트레스 여학생</th>\n",
       "      <th>우울감경험률</th>\n",
       "      <th>우울남학생</th>\n",
       "      <th>우울여학생</th>\n",
       "      <th>자살생각률</th>\n",
       "      <th>자살남학생</th>\n",
       "      <th>자살여학생</th>\n",
       "    </tr>\n",
       "  </thead>\n",
       "  <tbody>\n",
       "    <tr>\n",
       "      <th>0</th>\n",
       "      <td>41.6</td>\n",
       "      <td>34</td>\n",
       "      <td>49.7</td>\n",
       "      <td>29.5</td>\n",
       "      <td>24.5</td>\n",
       "      <td>34.8</td>\n",
       "      <td>14.2</td>\n",
       "      <td>10.8</td>\n",
       "      <td>17.9</td>\n",
       "    </tr>\n",
       "  </tbody>\n",
       "</table>\n",
       "</div>"
      ],
      "text/plain": [
       "   스트레스  스트레스 남학생  스트레스 여학생  우울감경험률  우울남학생  우울여학생  자살생각률  자살남학생  자살여학생\n",
       "0  41.6        34      49.7    29.5   24.5   34.8   14.2   10.8   17.9"
      ]
     },
     "execution_count": 39,
     "metadata": {},
     "output_type": "execute_result"
    }
   ],
   "source": [
    "col_names = ['스트레스', '스트레스 남학생','스트레스 여학생','우울감경험률','우울남학생','우울여학생','자살생각률','자살남학생','자살여학생']\n",
    "pd.read_excel(\"./seoul_mental_report.xlsx\",header=1, usecols=\"C:K\", names=col_names)"
   ]
  },
  {
   "cell_type": "code",
   "execution_count": 40,
   "metadata": {},
   "outputs": [
    {
     "data": {
      "text/html": [
       "<div>\n",
       "<style scoped>\n",
       "    .dataframe tbody tr th:only-of-type {\n",
       "        vertical-align: middle;\n",
       "    }\n",
       "\n",
       "    .dataframe tbody tr th {\n",
       "        vertical-align: top;\n",
       "    }\n",
       "\n",
       "    .dataframe thead th {\n",
       "        text-align: right;\n",
       "    }\n",
       "</style>\n",
       "<table border=\"1\" class=\"dataframe\">\n",
       "  <thead>\n",
       "    <tr style=\"text-align: right;\">\n",
       "      <th></th>\n",
       "      <th>기간</th>\n",
       "      <th>구분</th>\n",
       "      <th>전체</th>\n",
       "      <th>남학생</th>\n",
       "      <th>여학생</th>\n",
       "      <th>전체.1</th>\n",
       "      <th>남학생.1</th>\n",
       "      <th>여학생.1</th>\n",
       "      <th>전체.2</th>\n",
       "      <th>남학생.2</th>\n",
       "      <th>여학생.2</th>\n",
       "    </tr>\n",
       "  </thead>\n",
       "  <tbody>\n",
       "    <tr>\n",
       "      <th>0</th>\n",
       "      <td>2019</td>\n",
       "      <td>구분</td>\n",
       "      <td>41.6</td>\n",
       "      <td>34</td>\n",
       "      <td>49.7</td>\n",
       "      <td>29.5</td>\n",
       "      <td>24.5</td>\n",
       "      <td>34.8</td>\n",
       "      <td>14.2</td>\n",
       "      <td>10.8</td>\n",
       "      <td>17.9</td>\n",
       "    </tr>\n",
       "  </tbody>\n",
       "</table>\n",
       "</div>"
      ],
      "text/plain": [
       "     기간  구분    전체  남학생   여학생  전체.1  남학생.1  여학생.1  전체.2  남학생.2  여학생.2\n",
       "0  2019  구분  41.6   34  49.7  29.5   24.5   34.8  14.2   10.8   17.9"
      ]
     },
     "execution_count": 40,
     "metadata": {},
     "output_type": "execute_result"
    }
   ],
   "source": [
    "pd.read_excel(\"./seoul_mental_report.xlsx\",header=1)"
   ]
  },
  {
   "cell_type": "code",
   "execution_count": 41,
   "metadata": {},
   "outputs": [
    {
     "data": {
      "text/html": [
       "<div>\n",
       "<style scoped>\n",
       "    .dataframe tbody tr th:only-of-type {\n",
       "        vertical-align: middle;\n",
       "    }\n",
       "\n",
       "    .dataframe tbody tr th {\n",
       "        vertical-align: top;\n",
       "    }\n",
       "\n",
       "    .dataframe thead th {\n",
       "        text-align: right;\n",
       "    }\n",
       "</style>\n",
       "<table border=\"1\" class=\"dataframe\">\n",
       "  <thead>\n",
       "    <tr style=\"text-align: right;\">\n",
       "      <th></th>\n",
       "      <th>스트레스</th>\n",
       "      <th>스트레스 남학생</th>\n",
       "      <th>스트레스 여학생</th>\n",
       "      <th>우울감경험률</th>\n",
       "      <th>우울남학생</th>\n",
       "      <th>우울여학생</th>\n",
       "      <th>자살생각률</th>\n",
       "      <th>자살남학생</th>\n",
       "      <th>자살여학생</th>\n",
       "    </tr>\n",
       "  </thead>\n",
       "  <tbody>\n",
       "    <tr>\n",
       "      <th>0</th>\n",
       "      <td>41.6</td>\n",
       "      <td>34</td>\n",
       "      <td>49.7</td>\n",
       "      <td>29.5</td>\n",
       "      <td>24.5</td>\n",
       "      <td>34.8</td>\n",
       "      <td>14.2</td>\n",
       "      <td>10.8</td>\n",
       "      <td>17.9</td>\n",
       "    </tr>\n",
       "  </tbody>\n",
       "</table>\n",
       "</div>"
      ],
      "text/plain": [
       "   스트레스  스트레스 남학생  스트레스 여학생  우울감경험률  우울남학생  우울여학생  자살생각률  자살남학생  자살여학생\n",
       "0  41.6        34      49.7    29.5   24.5   34.8   14.2   10.8   17.9"
      ]
     },
     "execution_count": 41,
     "metadata": {},
     "output_type": "execute_result"
    }
   ],
   "source": [
    "raw_data = pd.read_excel(\"./seoul_mental_report.xlsx\",\n",
    "                        header=1,\n",
    "                        usecols=\"C:K\",\n",
    "                        names=col_names)\n",
    "raw_data"
   ]
  },
  {
   "cell_type": "code",
   "execution_count": 42,
   "metadata": {},
   "outputs": [
    {
     "data": {
      "text/html": [
       "<div>\n",
       "<style scoped>\n",
       "    .dataframe tbody tr th:only-of-type {\n",
       "        vertical-align: middle;\n",
       "    }\n",
       "\n",
       "    .dataframe tbody tr th {\n",
       "        vertical-align: top;\n",
       "    }\n",
       "\n",
       "    .dataframe thead th {\n",
       "        text-align: right;\n",
       "    }\n",
       "</style>\n",
       "<table border=\"1\" class=\"dataframe\">\n",
       "  <thead>\n",
       "    <tr style=\"text-align: right;\">\n",
       "      <th></th>\n",
       "      <th>스트레스</th>\n",
       "      <th>스트레스 남학생</th>\n",
       "      <th>스트레스 여학생</th>\n",
       "      <th>우울감경험률</th>\n",
       "      <th>우울남학생</th>\n",
       "      <th>우울여학생</th>\n",
       "      <th>자살생각률</th>\n",
       "      <th>자살남학생</th>\n",
       "      <th>자살여학생</th>\n",
       "    </tr>\n",
       "  </thead>\n",
       "  <tbody>\n",
       "    <tr>\n",
       "      <th>0</th>\n",
       "      <td>41.6</td>\n",
       "      <td>34.0</td>\n",
       "      <td>49.7</td>\n",
       "      <td>29.5</td>\n",
       "      <td>24.5</td>\n",
       "      <td>34.8</td>\n",
       "      <td>14.2</td>\n",
       "      <td>10.8</td>\n",
       "      <td>17.9</td>\n",
       "    </tr>\n",
       "    <tr>\n",
       "      <th>1</th>\n",
       "      <td>58.4</td>\n",
       "      <td>66.0</td>\n",
       "      <td>50.3</td>\n",
       "      <td>70.5</td>\n",
       "      <td>75.5</td>\n",
       "      <td>65.2</td>\n",
       "      <td>85.8</td>\n",
       "      <td>89.2</td>\n",
       "      <td>82.1</td>\n",
       "    </tr>\n",
       "  </tbody>\n",
       "</table>\n",
       "</div>"
      ],
      "text/plain": [
       "   스트레스  스트레스 남학생  스트레스 여학생  우울감경험률  우울남학생  우울여학생  자살생각률  자살남학생  자살여학생\n",
       "0  41.6      34.0      49.7    29.5   24.5   34.8   14.2   10.8   17.9\n",
       "1  58.4      66.0      50.3    70.5   75.5   65.2   85.8   89.2   82.1"
      ]
     },
     "execution_count": 42,
     "metadata": {},
     "output_type": "execute_result"
    }
   ],
   "source": [
    "raw_data.loc[1] = 100 - raw_data.loc[0]\n",
    "raw_data"
   ]
  },
  {
   "cell_type": "code",
   "execution_count": 43,
   "metadata": {},
   "outputs": [
    {
     "data": {
      "text/html": [
       "<div>\n",
       "<style scoped>\n",
       "    .dataframe tbody tr th:only-of-type {\n",
       "        vertical-align: middle;\n",
       "    }\n",
       "\n",
       "    .dataframe tbody tr th {\n",
       "        vertical-align: top;\n",
       "    }\n",
       "\n",
       "    .dataframe thead th {\n",
       "        text-align: right;\n",
       "    }\n",
       "</style>\n",
       "<table border=\"1\" class=\"dataframe\">\n",
       "  <thead>\n",
       "    <tr style=\"text-align: right;\">\n",
       "      <th></th>\n",
       "      <th>스트레스</th>\n",
       "      <th>스트레스 남학생</th>\n",
       "      <th>스트레스 여학생</th>\n",
       "      <th>우울감경험률</th>\n",
       "      <th>우울남학생</th>\n",
       "      <th>우울여학생</th>\n",
       "      <th>자살생각률</th>\n",
       "      <th>자살남학생</th>\n",
       "      <th>자살여학생</th>\n",
       "      <th>응답</th>\n",
       "    </tr>\n",
       "  </thead>\n",
       "  <tbody>\n",
       "    <tr>\n",
       "      <th>0</th>\n",
       "      <td>41.6</td>\n",
       "      <td>34.0</td>\n",
       "      <td>49.7</td>\n",
       "      <td>29.5</td>\n",
       "      <td>24.5</td>\n",
       "      <td>34.8</td>\n",
       "      <td>14.2</td>\n",
       "      <td>10.8</td>\n",
       "      <td>17.9</td>\n",
       "      <td>그렇다</td>\n",
       "    </tr>\n",
       "    <tr>\n",
       "      <th>1</th>\n",
       "      <td>58.4</td>\n",
       "      <td>66.0</td>\n",
       "      <td>50.3</td>\n",
       "      <td>70.5</td>\n",
       "      <td>75.5</td>\n",
       "      <td>65.2</td>\n",
       "      <td>85.8</td>\n",
       "      <td>89.2</td>\n",
       "      <td>82.1</td>\n",
       "      <td>아니다</td>\n",
       "    </tr>\n",
       "  </tbody>\n",
       "</table>\n",
       "</div>"
      ],
      "text/plain": [
       "   스트레스  스트레스 남학생  스트레스 여학생  우울감경험률  우울남학생  우울여학생  자살생각률  자살남학생  자살여학생   응답\n",
       "0  41.6      34.0      49.7    29.5   24.5   34.8   14.2   10.8   17.9  그렇다\n",
       "1  58.4      66.0      50.3    70.5   75.5   65.2   85.8   89.2   82.1  아니다"
      ]
     },
     "execution_count": 43,
     "metadata": {},
     "output_type": "execute_result"
    }
   ],
   "source": [
    "raw_data['응답'] = ['그렇다','아니다']\n",
    "raw_data"
   ]
  },
  {
   "cell_type": "code",
   "execution_count": 44,
   "metadata": {},
   "outputs": [
    {
     "data": {
      "text/html": [
       "<div>\n",
       "<style scoped>\n",
       "    .dataframe tbody tr th:only-of-type {\n",
       "        vertical-align: middle;\n",
       "    }\n",
       "\n",
       "    .dataframe tbody tr th {\n",
       "        vertical-align: top;\n",
       "    }\n",
       "\n",
       "    .dataframe thead th {\n",
       "        text-align: right;\n",
       "    }\n",
       "</style>\n",
       "<table border=\"1\" class=\"dataframe\">\n",
       "  <thead>\n",
       "    <tr style=\"text-align: right;\">\n",
       "      <th></th>\n",
       "      <th>스트레스</th>\n",
       "      <th>스트레스 남학생</th>\n",
       "      <th>스트레스 여학생</th>\n",
       "      <th>우울감경험률</th>\n",
       "      <th>우울남학생</th>\n",
       "      <th>우울여학생</th>\n",
       "      <th>자살생각률</th>\n",
       "      <th>자살남학생</th>\n",
       "      <th>자살여학생</th>\n",
       "    </tr>\n",
       "  </thead>\n",
       "  <tbody>\n",
       "    <tr>\n",
       "      <th>count</th>\n",
       "      <td>2.000000</td>\n",
       "      <td>2.000000</td>\n",
       "      <td>2.000000</td>\n",
       "      <td>2.000000</td>\n",
       "      <td>2.000000</td>\n",
       "      <td>2.000000</td>\n",
       "      <td>2.000000</td>\n",
       "      <td>2.000000</td>\n",
       "      <td>2.000000</td>\n",
       "    </tr>\n",
       "    <tr>\n",
       "      <th>mean</th>\n",
       "      <td>50.000000</td>\n",
       "      <td>50.000000</td>\n",
       "      <td>50.000000</td>\n",
       "      <td>50.000000</td>\n",
       "      <td>50.000000</td>\n",
       "      <td>50.000000</td>\n",
       "      <td>50.000000</td>\n",
       "      <td>50.000000</td>\n",
       "      <td>50.000000</td>\n",
       "    </tr>\n",
       "    <tr>\n",
       "      <th>std</th>\n",
       "      <td>11.879394</td>\n",
       "      <td>22.627417</td>\n",
       "      <td>0.424264</td>\n",
       "      <td>28.991378</td>\n",
       "      <td>36.062446</td>\n",
       "      <td>21.496046</td>\n",
       "      <td>50.628846</td>\n",
       "      <td>55.437172</td>\n",
       "      <td>45.396255</td>\n",
       "    </tr>\n",
       "    <tr>\n",
       "      <th>min</th>\n",
       "      <td>41.600000</td>\n",
       "      <td>34.000000</td>\n",
       "      <td>49.700000</td>\n",
       "      <td>29.500000</td>\n",
       "      <td>24.500000</td>\n",
       "      <td>34.800000</td>\n",
       "      <td>14.200000</td>\n",
       "      <td>10.800000</td>\n",
       "      <td>17.900000</td>\n",
       "    </tr>\n",
       "    <tr>\n",
       "      <th>25%</th>\n",
       "      <td>45.800000</td>\n",
       "      <td>42.000000</td>\n",
       "      <td>49.850000</td>\n",
       "      <td>39.750000</td>\n",
       "      <td>37.250000</td>\n",
       "      <td>42.400000</td>\n",
       "      <td>32.100000</td>\n",
       "      <td>30.400000</td>\n",
       "      <td>33.950000</td>\n",
       "    </tr>\n",
       "    <tr>\n",
       "      <th>50%</th>\n",
       "      <td>50.000000</td>\n",
       "      <td>50.000000</td>\n",
       "      <td>50.000000</td>\n",
       "      <td>50.000000</td>\n",
       "      <td>50.000000</td>\n",
       "      <td>50.000000</td>\n",
       "      <td>50.000000</td>\n",
       "      <td>50.000000</td>\n",
       "      <td>50.000000</td>\n",
       "    </tr>\n",
       "    <tr>\n",
       "      <th>75%</th>\n",
       "      <td>54.200000</td>\n",
       "      <td>58.000000</td>\n",
       "      <td>50.150000</td>\n",
       "      <td>60.250000</td>\n",
       "      <td>62.750000</td>\n",
       "      <td>57.600000</td>\n",
       "      <td>67.900000</td>\n",
       "      <td>69.600000</td>\n",
       "      <td>66.050000</td>\n",
       "    </tr>\n",
       "    <tr>\n",
       "      <th>max</th>\n",
       "      <td>58.400000</td>\n",
       "      <td>66.000000</td>\n",
       "      <td>50.300000</td>\n",
       "      <td>70.500000</td>\n",
       "      <td>75.500000</td>\n",
       "      <td>65.200000</td>\n",
       "      <td>85.800000</td>\n",
       "      <td>89.200000</td>\n",
       "      <td>82.100000</td>\n",
       "    </tr>\n",
       "  </tbody>\n",
       "</table>\n",
       "</div>"
      ],
      "text/plain": [
       "            스트레스   스트레스 남학생   스트레스 여학생     우울감경험률      우울남학생      우울여학생  \\\n",
       "count   2.000000   2.000000   2.000000   2.000000   2.000000   2.000000   \n",
       "mean   50.000000  50.000000  50.000000  50.000000  50.000000  50.000000   \n",
       "std    11.879394  22.627417   0.424264  28.991378  36.062446  21.496046   \n",
       "min    41.600000  34.000000  49.700000  29.500000  24.500000  34.800000   \n",
       "25%    45.800000  42.000000  49.850000  39.750000  37.250000  42.400000   \n",
       "50%    50.000000  50.000000  50.000000  50.000000  50.000000  50.000000   \n",
       "75%    54.200000  58.000000  50.150000  60.250000  62.750000  57.600000   \n",
       "max    58.400000  66.000000  50.300000  70.500000  75.500000  65.200000   \n",
       "\n",
       "           자살생각률      자살남학생      자살여학생  \n",
       "count   2.000000   2.000000   2.000000  \n",
       "mean   50.000000  50.000000  50.000000  \n",
       "std    50.628846  55.437172  45.396255  \n",
       "min    14.200000  10.800000  17.900000  \n",
       "25%    32.100000  30.400000  33.950000  \n",
       "50%    50.000000  50.000000  50.000000  \n",
       "75%    67.900000  69.600000  66.050000  \n",
       "max    85.800000  89.200000  82.100000  "
      ]
     },
     "execution_count": 44,
     "metadata": {},
     "output_type": "execute_result"
    }
   ],
   "source": [
    "raw_data.describe()"
   ]
  },
  {
   "cell_type": "code",
   "execution_count": 45,
   "metadata": {},
   "outputs": [
    {
     "data": {
      "text/html": [
       "<div>\n",
       "<style scoped>\n",
       "    .dataframe tbody tr th:only-of-type {\n",
       "        vertical-align: middle;\n",
       "    }\n",
       "\n",
       "    .dataframe tbody tr th {\n",
       "        vertical-align: top;\n",
       "    }\n",
       "\n",
       "    .dataframe thead th {\n",
       "        text-align: right;\n",
       "    }\n",
       "</style>\n",
       "<table border=\"1\" class=\"dataframe\">\n",
       "  <thead>\n",
       "    <tr style=\"text-align: right;\">\n",
       "      <th></th>\n",
       "      <th>스트레스</th>\n",
       "      <th>스트레스 남학생</th>\n",
       "      <th>스트레스 여학생</th>\n",
       "      <th>우울감경험률</th>\n",
       "      <th>우울남학생</th>\n",
       "      <th>우울여학생</th>\n",
       "      <th>자살생각률</th>\n",
       "      <th>자살남학생</th>\n",
       "      <th>자살여학생</th>\n",
       "    </tr>\n",
       "    <tr>\n",
       "      <th>응답</th>\n",
       "      <th></th>\n",
       "      <th></th>\n",
       "      <th></th>\n",
       "      <th></th>\n",
       "      <th></th>\n",
       "      <th></th>\n",
       "      <th></th>\n",
       "      <th></th>\n",
       "      <th></th>\n",
       "    </tr>\n",
       "  </thead>\n",
       "  <tbody>\n",
       "    <tr>\n",
       "      <th>그렇다</th>\n",
       "      <td>41.6</td>\n",
       "      <td>34.0</td>\n",
       "      <td>49.7</td>\n",
       "      <td>29.5</td>\n",
       "      <td>24.5</td>\n",
       "      <td>34.8</td>\n",
       "      <td>14.2</td>\n",
       "      <td>10.8</td>\n",
       "      <td>17.9</td>\n",
       "    </tr>\n",
       "    <tr>\n",
       "      <th>아니다</th>\n",
       "      <td>58.4</td>\n",
       "      <td>66.0</td>\n",
       "      <td>50.3</td>\n",
       "      <td>70.5</td>\n",
       "      <td>75.5</td>\n",
       "      <td>65.2</td>\n",
       "      <td>85.8</td>\n",
       "      <td>89.2</td>\n",
       "      <td>82.1</td>\n",
       "    </tr>\n",
       "  </tbody>\n",
       "</table>\n",
       "</div>"
      ],
      "text/plain": [
       "     스트레스  스트레스 남학생  스트레스 여학생  우울감경험률  우울남학생  우울여학생  자살생각률  자살남학생  자살여학생\n",
       "응답                                                                      \n",
       "그렇다  41.6      34.0      49.7    29.5   24.5   34.8   14.2   10.8   17.9\n",
       "아니다  58.4      66.0      50.3    70.5   75.5   65.2   85.8   89.2   82.1"
      ]
     },
     "execution_count": 45,
     "metadata": {},
     "output_type": "execute_result"
    }
   ],
   "source": [
    "raw_data.set_index('응답',drop=True, inplace=True)\n",
    "raw_data"
   ]
  },
  {
   "cell_type": "code",
   "execution_count": 46,
   "metadata": {},
   "outputs": [],
   "source": [
    "import matplotlib.pyplot as plt\n",
    "%matplotlib inline"
   ]
  },
  {
   "cell_type": "code",
   "execution_count": 47,
   "metadata": {},
   "outputs": [
    {
     "data": {
      "image/png": "[encoded data removed]",
      "text/plain": [
       "<Figure size 432x288 with 1 Axes>"
      ]
     },
     "metadata": {
      "needs_background": "light"
     },
     "output_type": "display_data"
    }
   ],
   "source": [
    "x = [0,1,2,3,4,5,6,7,8,9,10]\n",
    "y = [0,1,2,3,4,5,4,3,2,1,0]\n",
    "\n",
    "plt.plot(x,y)\n",
    "plt.grid()\n",
    "plt.show()"
   ]
  },
  {
   "cell_type": "code",
   "execution_count": 48,
   "metadata": {},
   "outputs": [
    {
     "data": {
      "text/plain": [
       "Text(0, 0.5, 'amplitude')"
      ]
     },
     "execution_count": 48,
     "metadata": {},
     "output_type": "execute_result"
    },
    {
     "data": {
      "image/png": "[encoded data removed]",
      "text/plain": [
       "<Figure size 720x432 with 1 Axes>"
      ]
     },
     "metadata": {
      "needs_background": "light"
     },
     "output_type": "display_data"
    }
   ],
   "source": [
    "t = np.arange(0,2*np.pi,0.01)\n",
    "\n",
    "plt.figure(figsize=(10,6))\n",
    "plt.plot(t,np.sin(t),lw=3,label='sin')\n",
    "plt.plot(t,np.cos(t),'r',label='cos')\n",
    "plt.grid()\n",
    "plt.legend()\n",
    "plt.title('sin function')\n",
    "plt.xlabel('sec')\n",
    "plt.ylabel('amplitude')"
   ]
  },
  {
   "cell_type": "code",
   "execution_count": 49,
   "metadata": {},
   "outputs": [],
   "source": [
    "from matplotlib import font_manager, rc\n",
    "plt.rcParams['axes.unicode_minus'] = False\n",
    "\n",
    "f_path = \"C:/Windows/Fonts/malgun.ttf\"\n",
    "font_name = font_manager.FontProperties(fname=f_path).get_name()\n",
    "rc('font',family=font_name)"
   ]
  },
  {
   "cell_type": "code",
   "execution_count": 50,
   "metadata": {},
   "outputs": [
    {
     "data": {
      "text/plain": [
       "Text(0, 0.5, 'amplitude')"
      ]
     },
     "execution_count": 50,
     "metadata": {},
     "output_type": "execute_result"
    },
    {
     "data": {
      "image/png": "[encoded data removed]",
      "text/plain": [
       "<Figure size 720x432 with 1 Axes>"
      ]
     },
     "metadata": {
      "needs_background": "light"
     },
     "output_type": "display_data"
    }
   ],
   "source": [
    "t = np.arange(0,2*np.pi,0.01)\n",
    "\n",
    "plt.figure(figsize=(10,6))\n",
    "plt.plot(t,np.sin(t),lw=3,label='sin')\n",
    "plt.plot(t,np.cos(t),'r',label='cos')\n",
    "plt.grid()\n",
    "plt.legend()\n",
    "plt.title('삼각함수')\n",
    "plt.xlabel('시간 (sec)')\n",
    "plt.ylabel('amplitude')"
   ]
  },
  {
   "cell_type": "code",
   "execution_count": 51,
   "metadata": {},
   "outputs": [
    {
     "data": {
      "text/html": [
       "<div>\n",
       "<style scoped>\n",
       "    .dataframe tbody tr th:only-of-type {\n",
       "        vertical-align: middle;\n",
       "    }\n",
       "\n",
       "    .dataframe tbody tr th {\n",
       "        vertical-align: top;\n",
       "    }\n",
       "\n",
       "    .dataframe thead th {\n",
       "        text-align: right;\n",
       "    }\n",
       "</style>\n",
       "<table border=\"1\" class=\"dataframe\">\n",
       "  <thead>\n",
       "    <tr style=\"text-align: right;\">\n",
       "      <th></th>\n",
       "      <th>스트레스</th>\n",
       "      <th>스트레스 남학생</th>\n",
       "      <th>스트레스 여학생</th>\n",
       "      <th>우울감경험률</th>\n",
       "      <th>우울남학생</th>\n",
       "      <th>우울여학생</th>\n",
       "      <th>자살생각률</th>\n",
       "      <th>자살남학생</th>\n",
       "      <th>자살여학생</th>\n",
       "    </tr>\n",
       "    <tr>\n",
       "      <th>응답</th>\n",
       "      <th></th>\n",
       "      <th></th>\n",
       "      <th></th>\n",
       "      <th></th>\n",
       "      <th></th>\n",
       "      <th></th>\n",
       "      <th></th>\n",
       "      <th></th>\n",
       "      <th></th>\n",
       "    </tr>\n",
       "  </thead>\n",
       "  <tbody>\n",
       "    <tr>\n",
       "      <th>그렇다</th>\n",
       "      <td>41.6</td>\n",
       "      <td>34.0</td>\n",
       "      <td>49.7</td>\n",
       "      <td>29.5</td>\n",
       "      <td>24.5</td>\n",
       "      <td>34.8</td>\n",
       "      <td>14.2</td>\n",
       "      <td>10.8</td>\n",
       "      <td>17.9</td>\n",
       "    </tr>\n",
       "    <tr>\n",
       "      <th>아니다</th>\n",
       "      <td>58.4</td>\n",
       "      <td>66.0</td>\n",
       "      <td>50.3</td>\n",
       "      <td>70.5</td>\n",
       "      <td>75.5</td>\n",
       "      <td>65.2</td>\n",
       "      <td>85.8</td>\n",
       "      <td>89.2</td>\n",
       "      <td>82.1</td>\n",
       "    </tr>\n",
       "  </tbody>\n",
       "</table>\n",
       "</div>"
      ],
      "text/plain": [
       "     스트레스  스트레스 남학생  스트레스 여학생  우울감경험률  우울남학생  우울여학생  자살생각률  자살남학생  자살여학생\n",
       "응답                                                                      \n",
       "그렇다  41.6      34.0      49.7    29.5   24.5   34.8   14.2   10.8   17.9\n",
       "아니다  58.4      66.0      50.3    70.5   75.5   65.2   85.8   89.2   82.1"
      ]
     },
     "execution_count": 51,
     "metadata": {},
     "output_type": "execute_result"
    }
   ],
   "source": [
    "raw_data"
   ]
  },
  {
   "cell_type": "code",
   "execution_count": 52,
   "metadata": {},
   "outputs": [
    {
     "data": {
      "image/png": "[encoded data removed]",
      "text/plain": [
       "<Figure size 432x288 with 1 Axes>"
      ]
     },
     "metadata": {},
     "output_type": "display_data"
    }
   ],
   "source": [
    "raw_data['스트레스'].plot.pie();"
   ]
  },
  {
   "cell_type": "code",
   "execution_count": 53,
   "metadata": {},
   "outputs": [
    {
     "data": {
      "image/png": "[encoded data removed]",
      "text/plain": [
       "<Figure size 432x288 with 1 Axes>"
      ]
     },
     "metadata": {},
     "output_type": "display_data"
    }
   ],
   "source": [
    "raw_data['스트레스'].plot.pie(explode=[0,0.02]);"
   ]
  },
  {
   "cell_type": "code",
   "execution_count": 54,
   "metadata": {},
   "outputs": [
    {
     "data": {
      "image/png": "[encoded data removed]",
      "text/plain": [
       "<Figure size 1152x576 with 3 Axes>"
      ]
     },
     "metadata": {},
     "output_type": "display_data"
    }
   ],
   "source": [
    "f, ax = plt.subplots(1,3, figsize=(16,8))\n",
    "\n",
    "raw_data['스트레스'].plot.pie(explode=[0,0.02], ax=ax[0], autopct='%1.1f%%')\n",
    "ax[0].set_title('스트레스를 받은 적 있다')\n",
    "ax[0].set_ylabel('')\n",
    "\n",
    "raw_data['우울감경험률'].plot.pie(explode=[0,0.02], ax=ax[1], autopct='%1.1f%%')\n",
    "ax[1].set_title('우울증을 경험한 적 있다')\n",
    "ax[1].set_ylabel('')\n",
    "\n",
    "raw_data['자살생각률'].plot.pie(explode=[0,0.02], ax=ax[2], autopct='%1.1f%%')\n",
    "ax[2].set_title('자살을 생각한 적 있다')\n",
    "ax[2].set_ylabel('')\n",
    "\n",
    "plt.show()"
   ]
  },
  {
   "cell_type": "code",
   "execution_count": null,
   "metadata": {},
   "outputs": [],
   "source": []
  }
 ],
 "metadata": {
  "kernelspec": {
   "display_name": "Python 3",
   "language": "python",
   "name": "python3"
  },
  "language_info": {
   "codemirror_mode": {
    "name": "ipython",
    "version": 3
   },
   "file_extension": ".py",
   "mimetype": "text/x-python",
   "name": "python",
   "nbconvert_exporter": "python",
   "pygments_lexer": "ipython3",
   "version": "3.6.12"
  }
 },
 "nbformat": 4,
 "nbformat_minor": 4
}
